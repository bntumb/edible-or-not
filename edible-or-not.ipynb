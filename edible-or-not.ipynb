{
  "cells": [
    {
      "cell_type": "markdown",
      "metadata": {
        "id": "AZQxkQioQdCY"
      },
      "source": [
        "# Comparative Study"
      ]
    },
    {
      "cell_type": "markdown",
      "metadata": {
        "id": "Na3TS7_eQdCh"
      },
      "source": [
        "### Investigate the performance of a number of Decision Trees vs KNN"
      ]
    },
    {
      "cell_type": "code",
      "execution_count": 348,
      "metadata": {
        "id": "OOQ8scN9QdCl",
        "outputId": "24306ce5-142f-40e7-ee7b-a96899234ed7",
        "colab": {
          "base_uri": "https://localhost:8080/",
          "height": 54
        }
      },
      "outputs": [
        {
          "output_type": "execute_result",
          "data": {
            "text/plain": [
              "<Figure size 640x480 with 0 Axes>"
            ]
          },
          "metadata": {},
          "execution_count": 348
        },
        {
          "output_type": "display_data",
          "data": {
            "text/plain": [
              "<Figure size 640x480 with 0 Axes>"
            ]
          },
          "metadata": {}
        }
      ],
      "source": [
        "import numpy as np\n",
        "import pandas as pd\n",
        "from pandas import Series, DataFrame\n",
        "from sklearn.tree import DecisionTreeClassifier\n",
        "from sklearn import tree\n",
        "from matplotlib import pyplot as plt\n",
        "from matplotlib.pyplot import figure\n",
        "figure(num=None, figsize=(8, 6), dpi=80, facecolor='w', edgecolor='k')"
      ]
    },
    {
      "cell_type": "markdown",
      "source": [
        "**Read the dataset mushroom.csv** "
      ],
      "metadata": {
        "id": "kufIxoLyStV3"
      }
    },
    {
      "cell_type": "code",
      "execution_count": null,
      "metadata": {
        "scrolled": true,
        "id": "O_TohFvGQdCp"
      },
      "outputs": [],
      "source": [
        "training_dataset = \"https://raw.githubusercontent.com/bntumb/edible-or-not/main/mushrooms.csv\"\n",
        "tra_data = pd.read_csv(training_dataset)\n",
        "\n",
        "import pandas as pd\n",
        "import numpy as np\n",
        "\n",
        "tra_data['split'] = np.random.randn(tra_data.shape[0], 1)\n",
        "\n",
        "msk = np.random.rand(len(tra_data)) <= 0.7\n",
        "\n",
        "train_set = tra_data[msk]\n",
        "hold_out_test_set = tra_data[~msk]\n",
        "\n",
        "\n",
        "train_set.head()"
      ]
    },
    {
      "cell_type": "markdown",
      "source": [
        "**check for null values**"
      ],
      "metadata": {
        "id": "Q96_19WbSlJg"
      }
    },
    {
      "cell_type": "code",
      "source": [
        "train_set.isna().sum()"
      ],
      "metadata": {
        "id": "AuhXhDXxSedk"
      },
      "execution_count": null,
      "outputs": []
    },
    {
      "cell_type": "markdown",
      "metadata": {
        "id": "cyotUTeuQdCr"
      },
      "source": [
        "### Pre-process data"
      ]
    },
    {
      "cell_type": "markdown",
      "metadata": {
        "id": "cAD4a9aDQdCs"
      },
      "source": [
        "Data preprocessing happens here "
      ]
    },
    {
      "cell_type": "code",
      "execution_count": 351,
      "metadata": {
        "id": "-PgRmW78QdCt"
      },
      "outputs": [],
      "source": [
        "from sklearn import preprocessing\n",
        "from sklearn.preprocessing import StandardScaler\n",
        "from sklearn.feature_selection import VarianceThreshold\n",
        "\n",
        "\n",
        "from sklearn.svm import SVC\n",
        "from sklearn.preprocessing import StandardScaler\n",
        "from sklearn.datasets import make_classification\n",
        "from sklearn.model_selection import train_test_split\n",
        "from sklearn.pipeline import Pipeline\n",
        "from sklearn.preprocessing import OrdinalEncoder\n",
        "from sklearn.model_selection import cross_validate\n",
        "from sklearn.preprocessing import LabelEncoder\n",
        "\n",
        "from sklearn.metrics import classification_report\n",
        "from sklearn.model_selection import GridSearchCV\n",
        "\n"
      ]
    },
    {
      "cell_type": "code",
      "execution_count": 352,
      "metadata": {
        "id": "mq5nl0ZkQdCv"
      },
      "outputs": [],
      "source": [
        "\n",
        "def pp_data(dataset):\n",
        "    features = dataset.drop('class', axis=1)\n",
        "    ordinal_encoder = OrdinalEncoder()\n",
        "    ordinal_encoder.fit(features)\n",
        "    features = ordinal_encoder.transform(features)\n",
        "\n",
        "    label_encoder = LabelEncoder()\n",
        "    label_encoder.fit( dataset['class'])\n",
        "    class_labels = label_encoder.transform( dataset['class'])\n",
        "    scaler = StandardScaler().fit(features)\n",
        "    scaled_features = scaler.transform(features)\n",
        "    sel = VarianceThreshold(threshold=(.8 * (1 - .8)))\n",
        "    selected_features =sel.fit_transform(scaled_features)\n",
        "    data = dict();\n",
        "    data['features'] = selected_features\n",
        "    data['class']   = class_labels\n",
        "    return (data)"
      ]
    },
    {
      "cell_type": "code",
      "execution_count": 353,
      "metadata": {
        "id": "gnd7ASDxQdCx"
      },
      "outputs": [],
      "source": [
        "scaled_training_data = pp_data(tra_data)\n",
        "training_features = scaled_training_data['features']\n",
        "training_class = scaled_training_data['class']"
      ]
    },
    {
      "cell_type": "markdown",
      "metadata": {
        "id": "vwiZGTuFQdCz"
      },
      "source": [
        "### split data"
      ]
    },
    {
      "cell_type": "markdown",
      "metadata": {
        "id": "ZXVbcm5OQdC1"
      },
      "source": [
        "uses the sklearn model selection library to split the training data into a training set and test set. It creates a random test set using 20% amount of the samples (test_size)."
      ]
    },
    {
      "cell_type": "code",
      "execution_count": 354,
      "metadata": {
        "id": "747UbjbGQdC2"
      },
      "outputs": [],
      "source": [
        "from sklearn.model_selection import train_test_split\n",
        "X_train, X_test, y_train, y_test = train_test_split(training_features, training_class, test_size=0.20)"
      ]
    },
    {
      "cell_type": "markdown",
      "metadata": {
        "id": "lelgmr-8QdC3"
      },
      "source": [
        "### Train model"
      ]
    },
    {
      "cell_type": "code",
      "execution_count": 355,
      "metadata": {
        "id": "A_C3rn1aQdC4"
      },
      "outputs": [],
      "source": [
        "from sklearn.model_selection import cross_val_predict\n"
      ]
    },
    {
      "cell_type": "code",
      "execution_count": 356,
      "metadata": {
        "id": "Ug7wlN6RQdC5"
      },
      "outputs": [],
      "source": [
        "def train_model(classifier):\n",
        "    return (classifier.fit(X_train, y_train))"
      ]
    },
    {
      "cell_type": "markdown",
      "metadata": {
        "id": "ccClpks2QdC7"
      },
      "source": [
        "### Evaluate model\n",
        "this section highlights the values used to evaluate the predictions. "
      ]
    },
    {
      "cell_type": "code",
      "execution_count": 357,
      "metadata": {
        "id": "Tm4J2ZB7QdC7"
      },
      "outputs": [],
      "source": [
        "from sklearn.metrics import classification_report, confusion_matrix, accuracy_score\n",
        "from sklearn import metrics\n",
        "\n",
        "def eval_model(prediction):\n",
        "    print(confusion_matrix(y_test, prediction))\n",
        "    print(\"Precision:\",metrics.precision_score(y_test, prediction))\n",
        "    print(\"Recall:\",metrics.recall_score(y_test, prediction))\n",
        "    print(\"accuracy: \",accuracy_score(y_test, prediction))\n",
        "    print(\"full report\")\n",
        "    print(classification_report(y_test, prediction))"
      ]
    },
    {
      "cell_type": "markdown",
      "metadata": {
        "id": "ixSetxyCQdC8"
      },
      "source": [
        "## Building Decision Tree Model"
      ]
    },
    {
      "cell_type": "code",
      "execution_count": 358,
      "metadata": {
        "id": "PhL68fdqQdC9"
      },
      "outputs": [],
      "source": [
        "from sklearn.tree import DecisionTreeClassifier\n",
        "dt_clf = DecisionTreeClassifier()\n",
        "dt_clf = train_model(dt_clf)\n"
      ]
    },
    {
      "cell_type": "code",
      "execution_count": 359,
      "metadata": {
        "id": "wDyNwvcLQdC-"
      },
      "outputs": [],
      "source": [
        "y_pred = dt_clf.predict(X_test)\n"
      ]
    },
    {
      "cell_type": "code",
      "execution_count": null,
      "metadata": {
        "id": "aeJvmAngQdC_"
      },
      "outputs": [],
      "source": [
        "plt.figure(figsize=(15,10))\n",
        "tree.plot_tree(dt_clf, filled=True)\n",
        "\n",
        "plt.show()"
      ]
    },
    {
      "cell_type": "code",
      "execution_count": null,
      "metadata": {
        "id": "I1Wv7H_NQdC_"
      },
      "outputs": [],
      "source": [
        "eval_model(y_pred)"
      ]
    },
    {
      "cell_type": "markdown",
      "metadata": {
        "id": "LKWmUJriQdDA"
      },
      "source": [
        "### Post Prune Tree\n",
        " improve the models ability to generalise "
      ]
    },
    {
      "cell_type": "code",
      "execution_count": null,
      "metadata": {
        "id": "H3Fic42rQdDB"
      },
      "outputs": [],
      "source": [
        "path = dt_clf.cost_complexity_pruning_path(X_train, y_train)\n",
        "ccp_alphas, impurities = path.ccp_alphas, path.impurities\n",
        "ccp_alphas"
      ]
    },
    {
      "cell_type": "code",
      "execution_count": 363,
      "metadata": {
        "id": "vvRyEf9hQdDB"
      },
      "outputs": [],
      "source": [
        "clfs = []\n",
        "for ccp_alpha in ccp_alphas:\n",
        "    clf = DecisionTreeClassifier(random_state=0, ccp_alpha=ccp_alpha)\n",
        "    clf.fit(X_train, y_train)\n",
        "    clfs.append(clf)"
      ]
    },
    {
      "cell_type": "code",
      "execution_count": 364,
      "metadata": {
        "id": "0yR4uUv2QdDB"
      },
      "outputs": [],
      "source": [
        "train_scores = [clf.score(X_train, y_train) for clf in clfs]\n",
        "test_scores = [clf.score(X_test, y_test) for clf in clfs]"
      ]
    },
    {
      "cell_type": "code",
      "execution_count": 365,
      "metadata": {
        "id": "kmHN1Fq6QdDC",
        "outputId": "8ded80f1-08ae-49c3-d336-a580b2f67cb9",
        "colab": {
          "base_uri": "https://localhost:8080/"
        }
      },
      "outputs": [
        {
          "output_type": "execute_result",
          "data": {
            "text/plain": [
              "DecisionTreeClassifier(ccp_alpha=0.012, random_state=0)"
            ]
          },
          "metadata": {},
          "execution_count": 365
        }
      ],
      "source": [
        "dt_pruned_clf = DecisionTreeClassifier(random_state=0, ccp_alpha=0.012)\n",
        "dt_pruned_clf.fit(X_train,y_train)"
      ]
    },
    {
      "cell_type": "code",
      "execution_count": null,
      "metadata": {
        "id": "zB6zZm0hQdDD"
      },
      "outputs": [],
      "source": [
        "pred=dt_pruned_clf.predict(X_test)\n",
        "eval_model(pred)"
      ]
    },
    {
      "cell_type": "code",
      "execution_count": null,
      "metadata": {
        "id": "uvLWBX8TQdDE"
      },
      "outputs": [],
      "source": [
        "plt.figure(figsize=(15,10))\n",
        "tree.plot_tree(dt_pruned_clf,filled=True)"
      ]
    },
    {
      "cell_type": "markdown",
      "metadata": {
        "id": "q1VlS66qQdDI"
      },
      "source": [
        "## Building KNN Classifier"
      ]
    },
    {
      "cell_type": "code",
      "execution_count": 368,
      "metadata": {
        "id": "9F2CLJbRQdDJ"
      },
      "outputs": [],
      "source": [
        "from sklearn.neighbors import KNeighborsClassifier"
      ]
    },
    {
      "cell_type": "code",
      "execution_count": 369,
      "metadata": {
        "id": "npFzvPoKQdDK",
        "outputId": "9ea38372-80fb-483c-de40-3b97f75e6f6c",
        "colab": {
          "base_uri": "https://localhost:8080/"
        }
      },
      "outputs": [
        {
          "output_type": "execute_result",
          "data": {
            "text/plain": [
              "KNeighborsClassifier()"
            ]
          },
          "metadata": {},
          "execution_count": 369
        }
      ],
      "source": [
        "knn_clf = KNeighborsClassifier(n_neighbors = 5)\n",
        "knn_clf.fit(X_train, y_train)"
      ]
    },
    {
      "cell_type": "code",
      "execution_count": 370,
      "metadata": {
        "id": "qLMnU8X3QdDL"
      },
      "outputs": [],
      "source": [
        "knn_pred = knn_clf.predict(X_test)\n",
        "\n"
      ]
    },
    {
      "cell_type": "code",
      "execution_count": 371,
      "metadata": {
        "id": "ev4Q1rVjQdDM",
        "outputId": "bb14f14e-6403-4cfb-fa47-dddf72d0190c",
        "colab": {
          "base_uri": "https://localhost:8080/"
        }
      },
      "outputs": [
        {
          "output_type": "stream",
          "name": "stdout",
          "text": [
            "[1 1 1 ... 1 1 1]\n"
          ]
        }
      ],
      "source": [
        "print(knn_pred)"
      ]
    },
    {
      "cell_type": "code",
      "execution_count": null,
      "metadata": {
        "id": "oJiQIUCWQdDM"
      },
      "outputs": [],
      "source": [
        "eval_model(knn_pred)"
      ]
    },
    {
      "cell_type": "markdown",
      "metadata": {
        "id": "IWxprHJUQdDN"
      },
      "source": [
        "## Prediction on a hold-out test set"
      ]
    },
    {
      "cell_type": "code",
      "execution_count": null,
      "metadata": {
        "id": "41KVrqwyQdDN"
      },
      "outputs": [],
      "source": [
        "test_dataset = hold_out_test_set\n",
        "test_set = pp_data(test_dataset)\n",
        "\n",
        "test_features = test_set['features']\n",
        "test_dataset.head()"
      ]
    },
    {
      "cell_type": "code",
      "execution_count": null,
      "metadata": {
        "id": "uY4MMLLhQdDN"
      },
      "outputs": [],
      "source": [
        "test_set_pred = dt_pruned_clf.predict(test_features)\n",
        "\n",
        "print(test_set_pred)\n",
        "\n",
        "test_dataset['CLASS_PREDICTIONS'] = test_set_pred\n",
        "test_dataset.to_csv (\"output.csv\", index=False, header=True)"
      ]
    }
  ],
  "metadata": {
    "kernelspec": {
      "display_name": "Python 3",
      "language": "python",
      "name": "python3"
    },
    "language_info": {
      "codemirror_mode": {
        "name": "ipython",
        "version": 3
      },
      "file_extension": ".py",
      "mimetype": "text/x-python",
      "name": "python",
      "nbconvert_exporter": "python",
      "pygments_lexer": "ipython3",
      "version": "3.7.0"
    },
    "colab": {
      "name": "edible-or-not.ipynb",
      "provenance": []
    }
  },
  "nbformat": 4,
  "nbformat_minor": 0
}